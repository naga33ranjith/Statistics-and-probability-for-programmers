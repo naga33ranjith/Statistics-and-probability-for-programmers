{
 "cells": [
  {
   "cell_type": "code",
   "execution_count": 1,
   "metadata": {},
   "outputs": [],
   "source": [
    "import numpy as np\n",
    "import pandas as pd\n",
    "from pandas import DataFrame,Series\n",
    "import seaborn as sns\n",
    "import matplotlib.pyplot as plt\n",
    "%matplotlib inline\n",
    "from scipy import stats"
   ]
  },
  {
   "cell_type": "code",
   "execution_count": 2,
   "metadata": {},
   "outputs": [
    {
     "data": {
      "text/html": [
       "<div>\n",
       "<style scoped>\n",
       "    .dataframe tbody tr th:only-of-type {\n",
       "        vertical-align: middle;\n",
       "    }\n",
       "\n",
       "    .dataframe tbody tr th {\n",
       "        vertical-align: top;\n",
       "    }\n",
       "\n",
       "    .dataframe thead th {\n",
       "        text-align: right;\n",
       "    }\n",
       "</style>\n",
       "<table border=\"1\" class=\"dataframe\">\n",
       "  <thead>\n",
       "    <tr style=\"text-align: right;\">\n",
       "      <th></th>\n",
       "      <th>Time</th>\n",
       "    </tr>\n",
       "  </thead>\n",
       "  <tbody>\n",
       "    <tr>\n",
       "      <th>0</th>\n",
       "      <td>73</td>\n",
       "    </tr>\n",
       "    <tr>\n",
       "      <th>1</th>\n",
       "      <td>19</td>\n",
       "    </tr>\n",
       "  </tbody>\n",
       "</table>\n",
       "</div>"
      ],
      "text/plain": [
       "   Time\n",
       "0    73\n",
       "1    19"
      ]
     },
     "execution_count": 2,
     "metadata": {},
     "output_type": "execute_result"
    }
   ],
   "source": [
    "insurance=pd.read_excel(\"Insurance.xlsx\")\n",
    "insurance.head(2)"
   ]
  },
  {
   "cell_type": "code",
   "execution_count": 7,
   "metadata": {},
   "outputs": [],
   "source": [
    "def f(x):\n",
    "    return DataFrame(x.describe())\n",
    "def variance(c):\n",
    "    return np.var(c)\n",
    "def Coefficient_of_variation(stddev,mean):\n",
    "    return (stddev/mean)*100"
   ]
  },
  {
   "cell_type": "code",
   "execution_count": 10,
   "metadata": {},
   "outputs": [
    {
     "name": "stdout",
     "output_type": "stream",
     "text": [
      "            Time\n",
      "count  27.000000\n",
      "mean   43.888889\n",
      "std    25.283521\n",
      "min    16.000000\n",
      "25%    18.500000\n",
      "50%    45.000000\n",
      "75%    61.500000\n",
      "max    92.000000\n",
      "Range of the insurance is :Time    76.0\n",
      "dtype: float64\n",
      "Interquartile Range is :Time    43.0\n",
      "dtype: float64\n",
      "Variance is :615.5802469135803\n",
      "Coefficient Of Variation is :Time    57.608021\n",
      "dtype: float64\n"
     ]
    }
   ],
   "source": [
    "describe=f(insurance)\n",
    "print(describe)\n",
    "print(\"Range of the insurance is :{}\".format(describe.loc['max']-describe.loc['min']))\n",
    "print(\"Interquartile Range is :{}\".format(describe.loc['75%']-describe.loc['25%']))\n",
    "print(\"Variance is :{}\".format(variance(insurance['Time'])))\n",
    "print(\"Coefficient Of Variation is :{}\".format(Coefficient_of_variation(describe.loc['std'],describe.loc['mean'])))\n"
   ]
  },
  {
   "cell_type": "code",
   "execution_count": 5,
   "metadata": {},
   "outputs": [
    {
     "data": {
      "image/png": "[encoded data removed]",
      "text/plain": [
       "<Figure size 432x288 with 1 Axes>"
      ]
     },
     "metadata": {
      "needs_background": "light"
     },
     "output_type": "display_data"
    }
   ],
   "source": [
    "sns.boxplot(x=insurance['Time'])\n",
    "plt.show()"
   ]
  },
  {
   "cell_type": "markdown",
   "metadata": {},
   "source": [
    "#Report\n",
    "1.Here the dataset is right skewed.\n",
    "2.The mean approval process takes 43.89 days, with 50% policies being appproved in less than 45 days.50% applications are approved between 18 and 62 days.About 67% applications are approved between 16 to 92 days."
   ]
  },
  {
   "cell_type": "markdown",
   "metadata": {},
   "source": [
    "# Furniture"
   ]
  },
  {
   "cell_type": "code",
   "execution_count": 15,
   "metadata": {},
   "outputs": [
    {
     "data": {
      "text/html": [
       "<div>\n",
       "<style scoped>\n",
       "    .dataframe tbody tr th:only-of-type {\n",
       "        vertical-align: middle;\n",
       "    }\n",
       "\n",
       "    .dataframe tbody tr th {\n",
       "        vertical-align: top;\n",
       "    }\n",
       "\n",
       "    .dataframe thead th {\n",
       "        text-align: right;\n",
       "    }\n",
       "</style>\n",
       "<table border=\"1\" class=\"dataframe\">\n",
       "  <thead>\n",
       "    <tr style=\"text-align: right;\">\n",
       "      <th></th>\n",
       "      <th>Days</th>\n",
       "    </tr>\n",
       "  </thead>\n",
       "  <tbody>\n",
       "    <tr>\n",
       "      <th>0</th>\n",
       "      <td>54</td>\n",
       "    </tr>\n",
       "    <tr>\n",
       "      <th>1</th>\n",
       "      <td>5</td>\n",
       "    </tr>\n",
       "  </tbody>\n",
       "</table>\n",
       "</div>"
      ],
      "text/plain": [
       "   Days\n",
       "0    54\n",
       "1     5"
      ]
     },
     "execution_count": 15,
     "metadata": {},
     "output_type": "execute_result"
    }
   ],
   "source": [
    "furniture=pd.read_excel(\"Furniture.xlsx\")\n",
    "furniture.head(2)"
   ]
  },
  {
   "cell_type": "code",
   "execution_count": 13,
   "metadata": {},
   "outputs": [],
   "source": [
    "describe=f(furniture)"
   ]
  },
  {
   "cell_type": "code",
   "execution_count": 16,
   "metadata": {},
   "outputs": [
    {
     "name": "stdout",
     "output_type": "stream",
     "text": [
      "             Days\n",
      "count   50.000000\n",
      "mean    43.040000\n",
      "std     41.926057\n",
      "min      1.000000\n",
      "25%     15.250000\n",
      "50%     28.500000\n",
      "75%     53.500000\n",
      "max    165.000000\n",
      "Range of the insurance is :Days    164.0\n",
      "dtype: float64\n",
      "Interquartile Range is :Days    38.25\n",
      "dtype: float64\n",
      "Variance is :1722.6384000000003\n",
      "Coefficient Of Variation is :Days    97.411843\n",
      "dtype: float64\n"
     ]
    }
   ],
   "source": [
    "print(describe)\n",
    "print(\"Range of the insurance is :{}\".format(describe.loc['max']-describe.loc['min']))\n",
    "print(\"Interquartile Range is :{}\".format(describe.loc['75%']-describe.loc['25%']))\n",
    "print(\"Variance is :{}\".format(variance(furniture['Days'])))\n",
    "print(\"Coefficient Of Variation is :{}\".format(Coefficient_of_variation(describe.loc['std'],describe.loc['mean'])))\n"
   ]
  },
  {
   "cell_type": "code",
   "execution_count": 17,
   "metadata": {},
   "outputs": [
    {
     "data": {
      "image/png": "[encoded data removed]",
      "text/plain": [
       "<Figure size 432x288 with 1 Axes>"
      ]
     },
     "metadata": {
      "needs_background": "light"
     },
     "output_type": "display_data"
    }
   ],
   "source": [
    "sns.boxplot(furniture['Days'])\n",
    "plt.show()"
   ]
  },
  {
   "cell_type": "markdown",
   "metadata": {},
   "source": [
    "Mean is greater than median .Hence it is right skewed data set.\n",
    "The mean days to reslove the complaint is 43 days,with 50% of the complaints resolved with in 28 days."
   ]
  },
  {
   "cell_type": "markdown",
   "metadata": {},
   "source": [
    "Trough"
   ]
  },
  {
   "cell_type": "code",
   "execution_count": 18,
   "metadata": {},
   "outputs": [
    {
     "data": {
      "text/html": [
       "<div>\n",
       "<style scoped>\n",
       "    .dataframe tbody tr th:only-of-type {\n",
       "        vertical-align: middle;\n",
       "    }\n",
       "\n",
       "    .dataframe tbody tr th {\n",
       "        vertical-align: top;\n",
       "    }\n",
       "\n",
       "    .dataframe thead th {\n",
       "        text-align: right;\n",
       "    }\n",
       "</style>\n",
       "<table border=\"1\" class=\"dataframe\">\n",
       "  <thead>\n",
       "    <tr style=\"text-align: right;\">\n",
       "      <th></th>\n",
       "      <th>Width</th>\n",
       "    </tr>\n",
       "  </thead>\n",
       "  <tbody>\n",
       "    <tr>\n",
       "      <th>0</th>\n",
       "      <td>8.312</td>\n",
       "    </tr>\n",
       "    <tr>\n",
       "      <th>1</th>\n",
       "      <td>8.343</td>\n",
       "    </tr>\n",
       "  </tbody>\n",
       "</table>\n",
       "</div>"
      ],
      "text/plain": [
       "   Width\n",
       "0  8.312\n",
       "1  8.343"
      ]
     },
     "execution_count": 18,
     "metadata": {},
     "output_type": "execute_result"
    }
   ],
   "source": [
    "trough=pd.read_excel(\"Trough.xlsx\")\n",
    "trough.head(2)"
   ]
  },
  {
   "cell_type": "code",
   "execution_count": 20,
   "metadata": {},
   "outputs": [
    {
     "name": "stdout",
     "output_type": "stream",
     "text": [
      "           Width\n",
      "count  49.000000\n",
      "mean    8.420898\n",
      "std     0.046115\n",
      "min     8.312000\n",
      "25%     8.405000\n",
      "50%     8.420000\n",
      "75%     8.458000\n",
      "max     8.498000\n",
      "Range of the insurance is :Width    0.186\n",
      "dtype: float64\n",
      "Interquartile Range is :Width    0.053\n",
      "dtype: float64\n",
      "Variance is :0.002083152852977924\n",
      "Coefficient Of Variation is :Width    0.54762\n",
      "dtype: float64\n"
     ]
    }
   ],
   "source": [
    "describe=f(trough)\n",
    "print(describe)\n",
    "print(\"Range of the insurance is :{}\".format(describe.loc['max']-describe.loc['min']))\n",
    "print(\"Interquartile Range is :{}\".format(describe.loc['75%']-describe.loc['25%']))\n",
    "print(\"Variance is :{}\".format(variance(trough['Width'])))\n",
    "print(\"Coefficient Of Variation is :{}\".format(Coefficient_of_variation(describe.loc['std'],describe.loc['mean'])))\n",
    "\n"
   ]
  },
  {
   "cell_type": "code",
   "execution_count": 22,
   "metadata": {},
   "outputs": [
    {
     "data": {
      "image/png": "[encoded data removed]",
      "text/plain": [
       "<Figure size 432x288 with 1 Axes>"
      ]
     },
     "metadata": {
      "needs_background": "light"
     },
     "output_type": "display_data"
    }
   ],
   "source": [
    "sns.boxplot(trough['Width'])\n",
    "plt.show()"
   ]
  },
  {
   "cell_type": "markdown",
   "metadata": {},
   "source": [
    "1.Even difference of mean and median is zero . The given data set is left skewed since it is having some outliers on the left side of the box plot.\n",
    "2.Five-Number Summary:\n",
    "    min=8.31 inches\n",
    "    max=8.49 inches\n",
    "    q1=8.405 inches\n",
    "    q2=8.42 inches\n",
    "    q3=8.45 inches\n"
   ]
  },
  {
   "cell_type": "markdown",
   "metadata": {},
   "source": [
    "Force"
   ]
  },
  {
   "cell_type": "code",
   "execution_count": 27,
   "metadata": {},
   "outputs": [
    {
     "data": {
      "text/html": [
       "<div>\n",
       "<style scoped>\n",
       "    .dataframe tbody tr th:only-of-type {\n",
       "        vertical-align: middle;\n",
       "    }\n",
       "\n",
       "    .dataframe tbody tr th {\n",
       "        vertical-align: top;\n",
       "    }\n",
       "\n",
       "    .dataframe thead th {\n",
       "        text-align: right;\n",
       "    }\n",
       "</style>\n",
       "<table border=\"1\" class=\"dataframe\">\n",
       "  <thead>\n",
       "    <tr style=\"text-align: right;\">\n",
       "      <th></th>\n",
       "      <th>Force</th>\n",
       "    </tr>\n",
       "  </thead>\n",
       "  <tbody>\n",
       "    <tr>\n",
       "      <th>0</th>\n",
       "      <td>1870</td>\n",
       "    </tr>\n",
       "    <tr>\n",
       "      <th>1</th>\n",
       "      <td>1728</td>\n",
       "    </tr>\n",
       "  </tbody>\n",
       "</table>\n",
       "</div>"
      ],
      "text/plain": [
       "   Force\n",
       "0   1870\n",
       "1   1728"
      ]
     },
     "execution_count": 27,
     "metadata": {},
     "output_type": "execute_result"
    }
   ],
   "source": [
    "force=pd.read_excel(\"Force.xlsx\")\n",
    "force.head(2)"
   ]
  },
  {
   "cell_type": "code",
   "execution_count": 26,
   "metadata": {},
   "outputs": [],
   "source": [
    "describe=f(force)"
   ]
  },
  {
   "cell_type": "code",
   "execution_count": 28,
   "metadata": {},
   "outputs": [
    {
     "name": "stdout",
     "output_type": "stream",
     "text": [
      "             Force\n",
      "count    30.000000\n",
      "mean   1723.400000\n",
      "std      89.550833\n",
      "min    1522.000000\n",
      "25%    1662.000000\n",
      "50%    1735.000000\n",
      "75%    1781.500000\n",
      "max    1870.000000\n",
      "Range of the insurance is :Force    348.0\n",
      "dtype: float64\n",
      "Interquartile Range is :Force    119.5\n",
      "dtype: float64\n",
      "Variance is :7752.039999999998\n",
      "Coefficient Of Variation is :Force    5.196172\n",
      "dtype: float64\n"
     ]
    }
   ],
   "source": [
    "print(describe)\n",
    "print(\"Range of the insurance is :{}\".format(describe.loc['max']-describe.loc['min']))\n",
    "print(\"Interquartile Range is :{}\".format(describe.loc['75%']-describe.loc['25%']))\n",
    "print(\"Variance is :{}\".format(variance(force['Force'])))\n",
    "print(\"Coefficient Of Variation is :{}\".format(Coefficient_of_variation(describe.loc['std'],describe.loc['mean'])))\n"
   ]
  },
  {
   "cell_type": "code",
   "execution_count": 29,
   "metadata": {},
   "outputs": [
    {
     "data": {
      "image/png": "[encoded data removed]",
      "text/plain": [
       "<Figure size 432x288 with 1 Axes>"
      ]
     },
     "metadata": {
      "needs_background": "light"
     },
     "output_type": "display_data"
    }
   ],
   "source": [
    "sns.boxplot(force['Force'])\n",
    "plt.show()"
   ]
  },
  {
   "cell_type": "markdown",
   "metadata": {},
   "source": [
    "The given dataset is left skewed .Since difference of mean and median is less than zero"
   ]
  },
  {
   "cell_type": "markdown",
   "metadata": {},
   "source": [
    "All the insulators produced by the company is having atleast 1634 pounds."
   ]
  },
  {
   "cell_type": "code",
   "execution_count": null,
   "metadata": {},
   "outputs": [],
   "source": []
  }
 ],
 "metadata": {
  "kernelspec": {
   "display_name": "Python 3",
   "language": "python",
   "name": "python3"
  },
  "language_info": {
   "codemirror_mode": {
    "name": "ipython",
    "version": 3
   },
   "file_extension": ".py",
   "mimetype": "text/x-python",
   "name": "python",
   "nbconvert_exporter": "python",
   "pygments_lexer": "ipython3",
   "version": "3.7.1"
  }
 },
 "nbformat": 4,
 "nbformat_minor": 2
}
