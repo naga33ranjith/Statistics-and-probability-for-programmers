{
 "cells": [
  {
   "cell_type": "code",
   "execution_count": 1,
   "metadata": {},
   "outputs": [],
   "source": [
    "import numpy as np\n",
    "import pandas as pd\n",
    "from pandas import DataFrame,Series\n",
    "from scipy import stats"
   ]
  },
  {
   "cell_type": "code",
   "execution_count": 26,
   "metadata": {},
   "outputs": [],
   "source": [
    "def f(x):\n",
    "    return DataFrame(x.describe())\n",
    "def Z_scores(x):\n",
    "    return Series(stats.zscore(x))\n",
    "def Variance(x):\n",
    "    return stats.variation(x)\n",
    "def Coffecient_of_variation(Standard_deviation,Mean):\n",
    "    return (Standard_deviation/Mean)*100\n",
    "def mode(x):\n",
    "    return stats.mode(x)\n",
    "def range(maximum,minimum):\n",
    "    return maximum-minimum;\n",
    "\n",
    "\n",
    "    "
   ]
  },
  {
   "cell_type": "markdown",
   "metadata": {},
   "source": [
    "# 3.8\n"
   ]
  },
  {
   "cell_type": "code",
   "execution_count": null,
   "metadata": {},
   "outputs": [],
   "source": []
  },
  {
   "cell_type": "code",
   "execution_count": 33,
   "metadata": {},
   "outputs": [
    {
     "name": "stdout",
     "output_type": "stream",
     "text": [
      "         Spend($)\n",
      "count   15.000000\n",
      "mean    56.396667\n",
      "std     19.504006\n",
      "min     22.900000\n",
      "25%     48.375000\n",
      "50%     55.350000\n",
      "75%     61.350000\n",
      "max    108.250000\n",
      "Mode of mobile loyalty:ModeResult(mode=array([22.9]), count=array([1]))\n",
      "Variance of mobile loyalty :0.334109456310072\n",
      "Coefficiient_of_Variation is :Spend($)    34.583614\n",
      "dtype: float64\n",
      "Range is :Spend($)    85.35\n",
      "dtype: float64\n",
      "Z_scores:0    -0.055548\n",
      "1    -1.777704\n",
      "2     0.589266\n",
      "3    -0.546455\n",
      "4     0.055902\n",
      "5     2.751912\n",
      "6    -0.299675\n",
      "7    -1.124930\n",
      "8     1.162433\n",
      "9    -0.304982\n",
      "10    0.350446\n",
      "11    0.175311\n",
      "12   -0.787928\n",
      "13    0.013445\n",
      "14   -0.201493\n",
      "dtype: float64\n"
     ]
    }
   ],
   "source": [
    "MobileLoyalty=pd.read_excel(\"MobileLoyalty.xlsx\")\n",
    "Describe=f(MobileLoyalty)\n",
    "print(Describe)\n",
    "print(\"Mode of mobile loyalty:{}\".format(mode(MobileLoyalty['Spend($)'])))\n",
    "print(\"Variance of mobile loyalty :{}\".format(Variance(MobileLoyalty['Spend($)'])))\n",
    "print(\"Coefficiient_of_Variation is :{}\".format(Coffecient_of_variation(Describe.loc['std'],Describe.loc['mean'])))\n",
    "print(\"Range is :{}\".format(Describe.loc['max']-Describe.loc['min']))\n",
    "print(\"Z_scores:{}\".format(Z_scores(MobileLoyalty['Spend($)'])))\n",
    "###Yes since mean is greater than median.it is right skewed.\n",
    "##"
   ]
  },
  {
   "cell_type": "markdown",
   "metadata": {},
   "source": [
    "3.9\n"
   ]
  },
  {
   "cell_type": "code",
   "execution_count": 37,
   "metadata": {},
   "outputs": [],
   "source": [
    "Sedan=pd.read_excel(\"Sedans.xlsx\")\n",
    "\n"
   ]
  },
  {
   "cell_type": "code",
   "execution_count": 38,
   "metadata": {},
   "outputs": [
    {
     "name": "stdout",
     "output_type": "stream",
     "text": [
      "             MPG\n",
      "count  22.000000\n",
      "mean   27.772727\n",
      "std     5.126326\n",
      "min    22.000000\n",
      "25%    24.000000\n",
      "50%    26.000000\n",
      "75%    30.750000\n",
      "max    39.000000\n",
      "Mode of mobile loyalty:ModeResult(mode=array([24], dtype=int64), count=array([4]))\n",
      "Variance of mobile loyalty :0.18033748941610758\n",
      "Coefficiient_of_Variation is :MPG    18.458131\n",
      "dtype: float64\n",
      "Range is :MPG    17.0\n",
      "dtype: float64\n",
      "Z_scores:0     2.041998\n",
      "1    -0.353946\n",
      "2     0.444702\n",
      "3    -0.353946\n",
      "4    -0.553608\n",
      "5    -0.154284\n",
      "6    -0.753270\n",
      "7    -1.152594\n",
      "8    -0.154284\n",
      "9     0.844026\n",
      "10    2.241660\n",
      "11   -0.353946\n",
      "12   -0.753270\n",
      "13   -0.753270\n",
      "14   -0.952932\n",
      "15   -0.753270\n",
      "16   -0.553608\n",
      "17    0.644364\n",
      "18   -0.353946\n",
      "19    1.842336\n",
      "20   -1.152594\n",
      "21    1.043688\n",
      "dtype: float64\n"
     ]
    }
   ],
   "source": [
    "Describe=f(Sedan)\n",
    "print(Describe)\n",
    "print(\"Mode of mobile loyalty:{}\".format(mode(Sedan['MPG'])))\n",
    "print(\"Variance of mobile loyalty :{}\".format(Variance(Sedan['MPG'])))\n",
    "print(\"Coefficiient_of_Variation is :{}\".format(Coffecient_of_variation(Describe.loc['std'],Describe.loc['mean'])))\n",
    "print(\"Range is :{}\".format(Describe.loc['max']-Describe.loc['min']))\n",
    "print(\"Z_scores:{}\".format(Z_scores(Sedan['MPG'])))\n"
   ]
  },
  {
   "cell_type": "code",
   "execution_count": 41,
   "metadata": {},
   "outputs": [],
   "source": [
    "SUV=pd.read_excel(\"SUV.xlsx\")\n"
   ]
  },
  {
   "cell_type": "code",
   "execution_count": 44,
   "metadata": {
    "scrolled": true
   },
   "outputs": [
    {
     "name": "stdout",
     "output_type": "stream",
     "text": [
      "             MPG\n",
      "count  20.000000\n",
      "mean   22.850000\n",
      "std     1.631112\n",
      "min    21.000000\n",
      "25%    22.000000\n",
      "50%    22.000000\n",
      "75%    24.000000\n",
      "max    26.000000\n",
      "Mode of mobile loyalty:ModeResult(mode=array([22], dtype=int64), count=array([7]))\n",
      "Variance of mobile loyalty :0.0695759872892107\n",
      "Coefficiient_of_Variation is :MPG    7.138346\n",
      "dtype: float64\n",
      "Range is :MPG    5.0\n",
      "dtype: float64\n",
      "Z_scores:0     1.981367\n",
      "1    -0.534655\n",
      "2     0.094351\n",
      "3    -1.163660\n",
      "4     1.352362\n",
      "5     0.723356\n",
      "6    -0.534655\n",
      "7     1.981367\n",
      "8     1.352362\n",
      "9    -0.534655\n",
      "10   -1.163660\n",
      "11   -1.163660\n",
      "12   -0.534655\n",
      "13   -0.534655\n",
      "14    0.094351\n",
      "15    0.723356\n",
      "16    0.094351\n",
      "17   -0.534655\n",
      "18   -1.163660\n",
      "19   -0.534655\n",
      "dtype: float64\n"
     ]
    }
   ],
   "source": [
    "Describe=f(SUV)\n",
    "print(Describe)\n",
    "print(\"Mode of mobile loyalty:{}\".format(mode(SUV['MPG'])))\n",
    "print(\"Variance of mobile loyalty :{}\".format(Variance(SUV['MPG'])))\n",
    "print(\"Coefficiient_of_Variation is :{}\".format(Coffecient_of_variation(Describe.loc['std'],Describe.loc['mean'])))\n",
    "print(\"Range is :{}\".format(Describe.loc['max']-Describe.loc['min']))\n",
    "print(\"Z_scores:{}\".format(Z_scores(SUV['MPG'])))"
   ]
  },
  {
   "cell_type": "code",
   "execution_count": 46,
   "metadata": {},
   "outputs": [
    {
     "data": {
      "text/plain": [
       "Index(['Firm', 'Number of Partners', 'Unnamed: 2', 'Unnamed: 3', 'Unnamed: 4'], dtype='object')"
      ]
     },
     "execution_count": 46,
     "metadata": {},
     "output_type": "execute_result"
    }
   ],
   "source": [
    "AccountingPartners=pd.read_excel(\"AccountingPartners.xlsx\")\n",
    "AccountingPartners.columns"
   ]
  },
  {
   "cell_type": "code",
   "execution_count": 47,
   "metadata": {},
   "outputs": [
    {
     "name": "stdout",
     "output_type": "stream",
     "text": [
      "       Number of Partners  Unnamed: 2  Unnamed: 3\n",
      "count           35.000000         0.0         0.0\n",
      "mean            20.171429         NaN         NaN\n",
      "std              7.245630         NaN         NaN\n",
      "min             10.000000         NaN         NaN\n",
      "25%             14.000000         NaN         NaN\n",
      "50%             19.000000         NaN         NaN\n",
      "75%             25.500000         NaN         NaN\n",
      "max             34.000000         NaN         NaN\n",
      "Mode of mobile loyalty:ModeResult(mode=array([17], dtype=int64), count=array([4]))\n",
      "Variance of mobile loyalty :0.35403398667262725\n",
      "Coefficiient_of_Variation is :Number of Partners    35.920264\n",
      "Unnamed: 2                  NaN\n",
      "Unnamed: 3                  NaN\n",
      "dtype: float64\n",
      "Range is :Number of Partners    24.0\n",
      "Unnamed: 2             NaN\n",
      "Unnamed: 3             NaN\n",
      "dtype: float64\n",
      "Z_scores:0    -0.444092\n",
      "1     0.396082\n",
      "2    -0.164034\n",
      "3     0.396082\n",
      "4    -0.304063\n",
      "5    -0.444092\n",
      "6     0.396082\n",
      "7    -0.584122\n",
      "8     1.936403\n",
      "9    -1.424296\n",
      "10   -0.864180\n",
      "11    1.376286\n",
      "12   -0.864180\n",
      "13    1.796374\n",
      "14    0.816170\n",
      "15   -0.444092\n",
      "16   -0.164034\n",
      "17    0.256053\n",
      "18   -0.024005\n",
      "19    0.956199\n",
      "20    1.796374\n",
      "21    0.676141\n",
      "22   -1.144238\n",
      "23    0.816170\n",
      "24   -1.004209\n",
      "25    1.376286\n",
      "26   -1.004209\n",
      "27   -1.004209\n",
      "28    1.796374\n",
      "29    0.116024\n",
      "30   -0.444092\n",
      "31   -1.144238\n",
      "32   -1.424296\n",
      "33   -0.864180\n",
      "34   -1.144238\n",
      "dtype: float64\n"
     ]
    }
   ],
   "source": [
    "Describe=f(AccountingPartners)\n",
    "print(Describe)\n",
    "print(\"Mode of mobile loyalty:{}\".format(mode(AccountingPartners['Number of Partners'])))\n",
    "print(\"Variance of mobile loyalty :{}\".format(Variance(AccountingPartners['Number of Partners'])))\n",
    "print(\"Coefficiient_of_Variation is :{}\".format(Coffecient_of_variation(Describe.loc['std'],Describe.loc['mean'])))\n",
    "print(\"Range is :{}\".format(Describe.loc['max']-Describe.loc['min']))\n",
    "print(\"Z_scores:{}\".format(Z_scores(AccountingPartners['Number of Partners'])))"
   ]
  },
  {
   "cell_type": "code",
   "execution_count": 50,
   "metadata": {},
   "outputs": [
    {
     "data": {
      "text/plain": [
       "Index(['Country', 'Facebook Penetration (%)'], dtype='object')"
      ]
     },
     "execution_count": 50,
     "metadata": {},
     "output_type": "execute_result"
    }
   ],
   "source": [
    "Market_Peneration=pd.read_excel(\"MarketPenetration.xlsx\")\n",
    "Market_Peneration.columns"
   ]
  },
  {
   "cell_type": "code",
   "execution_count": 51,
   "metadata": {},
   "outputs": [
    {
     "name": "stdout",
     "output_type": "stream",
     "text": [
      "       Facebook Penetration (%)\n",
      "count                 22.000000\n",
      "mean                  39.409091\n",
      "std                   18.456278\n",
      "min                    6.000000\n",
      "25%                   27.250000\n",
      "50%                   42.000000\n",
      "75%                   55.750000\n",
      "max                   80.000000\n",
      "Mode of mobile loyalty:ModeResult(mode=array([42], dtype=int64), count=array([2]))\n",
      "Variance of mobile loyalty :0.457557854015535\n",
      "Coefficiient_of_Variation is :Facebook Penetration (%)    46.832539\n",
      "dtype: float64\n",
      "Range is :Facebook Penetration (%)    74.0\n",
      "dtype: float64\n",
      "Z_scores:0     0.920085\n",
      "1     0.975542\n",
      "2     0.199142\n",
      "3     0.864627\n",
      "4     0.143684\n",
      "5    -0.244516\n",
      "6    -1.797316\n",
      "7    -0.799087\n",
      "8     0.143684\n",
      "9    -1.242744\n",
      "10    0.199142\n",
      "11   -1.852773\n",
      "12   -0.466344\n",
      "13   -0.632716\n",
      "14    1.086456\n",
      "15   -1.076373\n",
      "16   -0.688173\n",
      "17   -0.189058\n",
      "18    0.310056\n",
      "19    2.251056\n",
      "20    0.975542\n",
      "21    0.920085\n",
      "dtype: float64\n"
     ]
    }
   ],
   "source": [
    "Describe=f(Market_Peneration)\n",
    "print(Describe)\n",
    "print(\"Mode of mobile loyalty:{}\".format(mode(Market_Peneration['Facebook Penetration (%)'])))\n",
    "print(\"Variance of mobile loyalty :{}\".format(Variance(Market_Peneration['Facebook Penetration (%)'])))\n",
    "print(\"Coefficiient_of_Variation is :{}\".format(Coffecient_of_variation(Describe.loc['std'],Describe.loc['mean'])))\n",
    "print(\"Range is :{}\".format(Describe.loc['max']-Describe.loc['min']))\n",
    "print(\"Z_scores:{}\".format(Z_scores(Market_Peneration['Facebook Penetration (%)'])))\n"
   ]
  },
  {
   "cell_type": "code",
   "execution_count": 57,
   "metadata": {},
   "outputs": [
    {
     "data": {
      "text/plain": [
       "Index(['Bank', 'One-Year', 'Five-Year'], dtype='object')"
      ]
     },
     "execution_count": 57,
     "metadata": {},
     "output_type": "execute_result"
    }
   ],
   "source": [
    "Cd_rate=pd.read_excel(\"CDRate.xlsx\")\n",
    "Cd_rate.columns\n"
   ]
  },
  {
   "cell_type": "code",
   "execution_count": 58,
   "metadata": {},
   "outputs": [
    {
     "name": "stdout",
     "output_type": "stream",
     "text": [
      "       One-Year  Five-Year\n",
      "count  22.00000  22.000000\n",
      "mean    0.71000   1.535455\n",
      "std     0.29903   0.424306\n",
      "min     0.20000   0.600000\n",
      "25%     0.56250   1.357500\n",
      "50%     0.80000   1.500000\n",
      "75%     0.95000   1.895000\n",
      "max     1.05000   2.250000\n",
      "Mode of mobile loyalty:ModeResult(mode=array([0.2]), count=array([2]))\n",
      "Variance of mobile loyalty :0.41148591893880726\n",
      "Coefficiient_of_Variation is :One-Year     42.116927\n",
      "Five-Year    27.633895\n",
      "dtype: float64\n",
      "Range is :One-Year     0.85\n",
      "Five-Year    1.65\n",
      "dtype: float64\n",
      "Z_scores:0    -1.745649\n",
      "1    -0.547654\n",
      "2     0.308056\n",
      "3    -1.745649\n",
      "4     0.992624\n",
      "5     0.821482\n",
      "6     0.821482\n",
      "7     0.684568\n",
      "8     1.163766\n",
      "9     1.163766\n",
      "10    0.479198\n",
      "11    0.924167\n",
      "12   -1.642963\n",
      "13   -0.102685\n",
      "14   -0.376512\n",
      "15    0.650340\n",
      "16    0.308056\n",
      "17   -1.574507\n",
      "18   -1.403365\n",
      "19   -0.205370\n",
      "20    0.000000\n",
      "21    1.026852\n",
      "dtype: float64\n",
      "Mode of mobile loyalty:ModeResult(mode=array([1.5]), count=array([3]))\n",
      "Variance of mobile loyalty :0.2699854839687289\n",
      "Coefficiient_of_Variation is :One-Year     42.116927\n",
      "Five-Year    27.633895\n",
      "dtype: float64\n",
      "Range is :One-Year     0.85\n",
      "Five-Year    1.65\n",
      "dtype: float64\n",
      "Z_scores:0    -1.050426\n",
      "1    -0.447363\n",
      "2     1.482438\n",
      "3    -2.256552\n",
      "4    -0.085525\n",
      "5    -0.085525\n",
      "6     0.276312\n",
      "7    -0.061403\n",
      "8     1.723663\n",
      "9     1.241213\n",
      "10   -0.374995\n",
      "11   -0.085525\n",
      "12   -1.460509\n",
      "13    0.975865\n",
      "14   -0.302628\n",
      "15   -0.302628\n",
      "16    0.541660\n",
      "17   -0.929813\n",
      "18    1.241213\n",
      "19   -0.061403\n",
      "20   -1.146916\n",
      "21    1.168846\n",
      "dtype: float64\n"
     ]
    }
   ],
   "source": [
    "Describe=f(Cd_rate)\n",
    "print(Describe)\n",
    "print(\"Mode of mobile loyalty:{}\".format(mode(Cd_rate['One-Year'])))\n",
    "print(\"Variance of mobile loyalty :{}\".format(Variance(Cd_rate['One-Year'])))\n",
    "print(\"Coefficiient_of_Variation is :{}\".format(Coffecient_of_variation(Describe.loc['std'],Describe.loc['mean'])))\n",
    "print(\"Range is :{}\".format(Describe.loc['max']-Describe.loc['min']))\n",
    "print(\"Z_scores:{}\".format(Z_scores(Cd_rate['One-Year'])))\n",
    "\n",
    "\n",
    "print(\"Mode of mobile loyalty:{}\".format(mode(Cd_rate['Five-Year'])))\n",
    "print(\"Variance of mobile loyalty :{}\".format(Variance(Cd_rate['Five-Year'])))\n",
    "print(\"Coefficiient_of_Variation is :{}\".format(Coffecient_of_variation(Describe.loc['std'],Describe.loc['mean'])))\n",
    "print(\"Range is :{}\".format(Describe.loc['max']-Describe.loc['min']))\n",
    "print(\"Z_scores:{}\".format(Z_scores(Cd_rate['Five-Year'])))\n"
   ]
  },
  {
   "cell_type": "code",
   "execution_count": 59,
   "metadata": {},
   "outputs": [],
   "source": [
    "Hotel_away=pd.read_excel(\"HotelAway.xlsx\")"
   ]
  },
  {
   "cell_type": "code",
   "execution_count": 60,
   "metadata": {},
   "outputs": [
    {
     "data": {
      "text/html": [
       "<div>\n",
       "<style scoped>\n",
       "    .dataframe tbody tr th:only-of-type {\n",
       "        vertical-align: middle;\n",
       "    }\n",
       "\n",
       "    .dataframe tbody tr th {\n",
       "        vertical-align: top;\n",
       "    }\n",
       "\n",
       "    .dataframe thead th {\n",
       "        text-align: right;\n",
       "    }\n",
       "</style>\n",
       "<table border=\"1\" class=\"dataframe\">\n",
       "  <thead>\n",
       "    <tr style=\"text-align: right;\">\n",
       "      <th></th>\n",
       "      <th>Nationality</th>\n",
       "      <th>Price (USD)</th>\n",
       "    </tr>\n",
       "  </thead>\n",
       "  <tbody>\n",
       "    <tr>\n",
       "      <th>0</th>\n",
       "      <td>United States</td>\n",
       "      <td>179</td>\n",
       "    </tr>\n",
       "    <tr>\n",
       "      <th>1</th>\n",
       "      <td>China</td>\n",
       "      <td>173</td>\n",
       "    </tr>\n",
       "  </tbody>\n",
       "</table>\n",
       "</div>"
      ],
      "text/plain": [
       "     Nationality  Price (USD)\n",
       "0  United States          179\n",
       "1          China          173"
      ]
     },
     "execution_count": 60,
     "metadata": {},
     "output_type": "execute_result"
    }
   ],
   "source": [
    "Hotel_away.head(2)"
   ]
  },
  {
   "cell_type": "code",
   "execution_count": 61,
   "metadata": {},
   "outputs": [
    {
     "name": "stdout",
     "output_type": "stream",
     "text": [
      "Mode of mobile loyalty:ModeResult(mode=array([173], dtype=int64), count=array([2]))\n",
      "Variance of mobile loyalty :0.07293643913630529\n",
      "Coefficiient_of_Variation is :One-Year     42.116927\n",
      "Five-Year    27.633895\n",
      "dtype: float64\n",
      "Range is :One-Year     0.85\n",
      "Five-Year    1.65\n",
      "dtype: float64\n",
      "Z_scores:0    1.219876\n",
      "1    0.719414\n",
      "2    0.886234\n",
      "3    0.719414\n",
      "4   -0.031279\n",
      "5   -1.782895\n",
      "6   -0.948792\n",
      "7   -0.781972\n",
      "dtype: float64\n"
     ]
    }
   ],
   "source": [
    "print(\"Mode of mobile loyalty:{}\".format(mode(Hotel_away['Price (USD)'])))\n",
    "print(\"Variance of mobile loyalty :{}\".format(Variance(Hotel_away['Price (USD)'])))\n",
    "print(\"Coefficiient_of_Variation is :{}\".format(Coffecient_of_variation(Describe.loc['std'],Describe.loc['mean'])))\n",
    "print(\"Range is :{}\".format(Describe.loc['max']-Describe.loc['min']))\n",
    "print(\"Z_scores:{}\".format(Z_scores(Hotel_away['Price (USD)'])))\n"
   ]
  },
  {
   "cell_type": "code",
   "execution_count": 62,
   "metadata": {},
   "outputs": [
    {
     "data": {
      "text/html": [
       "<div>\n",
       "<style scoped>\n",
       "    .dataframe tbody tr th:only-of-type {\n",
       "        vertical-align: middle;\n",
       "    }\n",
       "\n",
       "    .dataframe tbody tr th {\n",
       "        vertical-align: top;\n",
       "    }\n",
       "\n",
       "    .dataframe thead th {\n",
       "        text-align: right;\n",
       "    }\n",
       "</style>\n",
       "<table border=\"1\" class=\"dataframe\">\n",
       "  <thead>\n",
       "    <tr style=\"text-align: right;\">\n",
       "      <th></th>\n",
       "      <th>Waiting Time</th>\n",
       "    </tr>\n",
       "  </thead>\n",
       "  <tbody>\n",
       "    <tr>\n",
       "      <th>0</th>\n",
       "      <td>4.21</td>\n",
       "    </tr>\n",
       "    <tr>\n",
       "      <th>1</th>\n",
       "      <td>5.55</td>\n",
       "    </tr>\n",
       "  </tbody>\n",
       "</table>\n",
       "</div>"
      ],
      "text/plain": [
       "   Waiting Time\n",
       "0          4.21\n",
       "1          5.55"
      ]
     },
     "execution_count": 62,
     "metadata": {},
     "output_type": "execute_result"
    }
   ],
   "source": [
    "Bank1=pd.read_excel(\"Bank1.xlsx\")\n",
    "Bank1.head(2)"
   ]
  },
  {
   "cell_type": "code",
   "execution_count": 63,
   "metadata": {},
   "outputs": [
    {
     "name": "stdout",
     "output_type": "stream",
     "text": [
      "Mode of mobile loyalty:ModeResult(mode=array([0.38]), count=array([1]))\n",
      "Variance of mobile loyalty :0.36915488975319266\n",
      "Coefficiient_of_Variation is :Waiting Time    38.211161\n",
      "dtype: float64\n",
      "Range is :Waiting Time    6.08\n",
      "dtype: float64\n",
      "Z_scores:0    -0.048448\n",
      "1     0.798343\n",
      "2    -0.800450\n",
      "3     0.532931\n",
      "4     0.305435\n",
      "5    -1.230165\n",
      "6    -0.471844\n",
      "7    -0.686702\n",
      "8     0.134813\n",
      "9     1.145907\n",
      "10   -2.468755\n",
      "11    0.526612\n",
      "12    1.373403\n",
      "13    1.202781\n",
      "14   -0.313861\n",
      "dtype: float64\n"
     ]
    }
   ],
   "source": [
    "Describe=f(Bank1)\n",
    "print(\"Mode of mobile loyalty:{}\".format(mode(Bank1['Waiting Time'])))\n",
    "print(\"Variance of mobile loyalty :{}\".format(Variance(Bank1['Waiting Time'])))\n",
    "print(\"Coefficiient_of_Variation is :{}\".format(Coffecient_of_variation(Describe.loc['std'],Describe.loc['mean'])))\n",
    "print(\"Range is :{}\".format(Describe.loc['max']-Describe.loc['min']))\n",
    "print(\"Z_scores:{}\".format(Z_scores(Bank1['Waiting Time'])))\n"
   ]
  },
  {
   "cell_type": "code",
   "execution_count": 64,
   "metadata": {},
   "outputs": [
    {
     "data": {
      "text/html": [
       "<div>\n",
       "<style scoped>\n",
       "    .dataframe tbody tr th:only-of-type {\n",
       "        vertical-align: middle;\n",
       "    }\n",
       "\n",
       "    .dataframe tbody tr th {\n",
       "        vertical-align: top;\n",
       "    }\n",
       "\n",
       "    .dataframe thead th {\n",
       "        text-align: right;\n",
       "    }\n",
       "</style>\n",
       "<table border=\"1\" class=\"dataframe\">\n",
       "  <thead>\n",
       "    <tr style=\"text-align: right;\">\n",
       "      <th></th>\n",
       "      <th>Waiting Time</th>\n",
       "    </tr>\n",
       "  </thead>\n",
       "  <tbody>\n",
       "    <tr>\n",
       "      <th>0</th>\n",
       "      <td>9.66</td>\n",
       "    </tr>\n",
       "    <tr>\n",
       "      <th>1</th>\n",
       "      <td>5.90</td>\n",
       "    </tr>\n",
       "  </tbody>\n",
       "</table>\n",
       "</div>"
      ],
      "text/plain": [
       "   Waiting Time\n",
       "0          9.66\n",
       "1          5.90"
      ]
     },
     "execution_count": 64,
     "metadata": {},
     "output_type": "execute_result"
    }
   ],
   "source": [
    "Bank2=pd.read_excel(\"Bank2.xlsx\")\n",
    "Bank2.head(2)"
   ]
  },
  {
   "cell_type": "code",
   "execution_count": 65,
   "metadata": {},
   "outputs": [
    {
     "name": "stdout",
     "output_type": "stream",
     "text": [
      "Mode of mobile loyalty:ModeResult(mode=array([3.82]), count=array([1]))\n",
      "Variance of mobile loyalty :0.28273791183361013\n",
      "Coefficiient_of_Variation is :Waiting Time    29.266154\n",
      "dtype: float64\n",
      "Range is :Waiting Time    6.67\n",
      "dtype: float64\n",
      "Z_scores:0     1.265337\n",
      "1    -0.603835\n",
      "2     0.450059\n",
      "3    -0.658519\n",
      "4     0.803015\n",
      "5    -1.637845\n",
      "6     0.445088\n",
      "7     0.614109\n",
      "8     1.677946\n",
      "9    -0.216082\n",
      "10   -0.733087\n",
      "11   -1.508594\n",
      "12   -0.469613\n",
      "13    1.389617\n",
      "14   -0.817597\n",
      "dtype: float64\n"
     ]
    }
   ],
   "source": [
    "Describe=f(Bank2)\n",
    "print(\"Mode of mobile loyalty:{}\".format(mode(Bank2['Waiting Time'])))\n",
    "print(\"Variance of mobile loyalty :{}\".format(Variance(Bank2['Waiting Time'])))\n",
    "print(\"Coefficiient_of_Variation is :{}\".format(Coffecient_of_variation(Describe.loc['std'],Describe.loc['mean'])))\n",
    "print(\"Range is :{}\".format(Describe.loc['max']-Describe.loc['min']))\n",
    "print(\"Z_scores:{}\".format(Z_scores(Bank2['Waiting Time'])))\n"
   ]
  },
  {
   "cell_type": "code",
   "execution_count": 104,
   "metadata": {},
   "outputs": [
    {
     "data": {
      "text/html": [
       "<div>\n",
       "<style scoped>\n",
       "    .dataframe tbody tr th:only-of-type {\n",
       "        vertical-align: middle;\n",
       "    }\n",
       "\n",
       "    .dataframe tbody tr th {\n",
       "        vertical-align: top;\n",
       "    }\n",
       "\n",
       "    .dataframe thead th {\n",
       "        text-align: right;\n",
       "    }\n",
       "</style>\n",
       "<table border=\"1\" class=\"dataframe\">\n",
       "  <thead>\n",
       "    <tr style=\"text-align: right;\">\n",
       "      <th></th>\n",
       "      <th>Fund Number</th>\n",
       "      <th>Market Cap</th>\n",
       "      <th>Type</th>\n",
       "      <th>Assets</th>\n",
       "      <th>Turnover Ratio</th>\n",
       "      <th>Beta</th>\n",
       "      <th>SD</th>\n",
       "      <th>Risk</th>\n",
       "      <th>1YrReturn%</th>\n",
       "      <th>3YrReturn%</th>\n",
       "      <th>5YrReturn%</th>\n",
       "      <th>10YrReturn%</th>\n",
       "      <th>Expense Ratio</th>\n",
       "      <th>Star Rating</th>\n",
       "      <th>Unnamed: 14</th>\n",
       "      <th>Bins</th>\n",
       "      <th>Midpoints</th>\n",
       "    </tr>\n",
       "  </thead>\n",
       "  <tbody>\n",
       "    <tr>\n",
       "      <th>0</th>\n",
       "      <td>RF001</td>\n",
       "      <td>Large</td>\n",
       "      <td>Growth</td>\n",
       "      <td>309.9</td>\n",
       "      <td>12.21</td>\n",
       "      <td>1.15</td>\n",
       "      <td>18.72</td>\n",
       "      <td>Low</td>\n",
       "      <td>28.99</td>\n",
       "      <td>24.26</td>\n",
       "      <td>11.06</td>\n",
       "      <td>8.97</td>\n",
       "      <td>1.22</td>\n",
       "      <td>Four</td>\n",
       "      <td>NaN</td>\n",
       "      <td>-15.01</td>\n",
       "      <td>-12.5</td>\n",
       "    </tr>\n",
       "    <tr>\n",
       "      <th>1</th>\n",
       "      <td>RF002</td>\n",
       "      <td>Large</td>\n",
       "      <td>Growth</td>\n",
       "      <td>23.3</td>\n",
       "      <td>0.00</td>\n",
       "      <td>2.19</td>\n",
       "      <td>35.72</td>\n",
       "      <td>High</td>\n",
       "      <td>33.40</td>\n",
       "      <td>22.72</td>\n",
       "      <td>-4.89</td>\n",
       "      <td>0.02</td>\n",
       "      <td>1.90</td>\n",
       "      <td>Two</td>\n",
       "      <td>NaN</td>\n",
       "      <td>-10.01</td>\n",
       "      <td>-7.5</td>\n",
       "    </tr>\n",
       "    <tr>\n",
       "      <th>2</th>\n",
       "      <td>RF003</td>\n",
       "      <td>Large</td>\n",
       "      <td>Growth</td>\n",
       "      <td>141.5</td>\n",
       "      <td>147.00</td>\n",
       "      <td>2.24</td>\n",
       "      <td>36.69</td>\n",
       "      <td>High</td>\n",
       "      <td>33.98</td>\n",
       "      <td>21.91</td>\n",
       "      <td>1.53</td>\n",
       "      <td>12.55</td>\n",
       "      <td>1.92</td>\n",
       "      <td>Two</td>\n",
       "      <td>NaN</td>\n",
       "      <td>-5.01</td>\n",
       "      <td>-2.5</td>\n",
       "    </tr>\n",
       "    <tr>\n",
       "      <th>3</th>\n",
       "      <td>RF004</td>\n",
       "      <td>Large</td>\n",
       "      <td>Growth</td>\n",
       "      <td>118.5</td>\n",
       "      <td>5.00</td>\n",
       "      <td>2.24</td>\n",
       "      <td>36.63</td>\n",
       "      <td>High</td>\n",
       "      <td>33.78</td>\n",
       "      <td>21.89</td>\n",
       "      <td>1.57</td>\n",
       "      <td>12.69</td>\n",
       "      <td>1.73</td>\n",
       "      <td>Two</td>\n",
       "      <td>NaN</td>\n",
       "      <td>-0.01</td>\n",
       "      <td>2.5</td>\n",
       "    </tr>\n",
       "    <tr>\n",
       "      <th>4</th>\n",
       "      <td>RF005</td>\n",
       "      <td>Large</td>\n",
       "      <td>Growth</td>\n",
       "      <td>575.3</td>\n",
       "      <td>121.00</td>\n",
       "      <td>0.89</td>\n",
       "      <td>14.56</td>\n",
       "      <td>Low</td>\n",
       "      <td>21.62</td>\n",
       "      <td>16.47</td>\n",
       "      <td>9.40</td>\n",
       "      <td>10.30</td>\n",
       "      <td>1.41</td>\n",
       "      <td>Five</td>\n",
       "      <td>NaN</td>\n",
       "      <td>4.99</td>\n",
       "      <td>7.5</td>\n",
       "    </tr>\n",
       "  </tbody>\n",
       "</table>\n",
       "</div>"
      ],
      "text/plain": [
       "  Fund Number Market Cap    Type  Assets  Turnover Ratio  Beta     SD  Risk  \\\n",
       "0       RF001      Large  Growth   309.9           12.21  1.15  18.72   Low   \n",
       "1       RF002      Large  Growth    23.3            0.00  2.19  35.72  High   \n",
       "2       RF003      Large  Growth   141.5          147.00  2.24  36.69  High   \n",
       "3       RF004      Large  Growth   118.5            5.00  2.24  36.63  High   \n",
       "4       RF005      Large  Growth   575.3          121.00  0.89  14.56   Low   \n",
       "\n",
       "   1YrReturn%  3YrReturn%  5YrReturn%  10YrReturn%  Expense Ratio Star Rating  \\\n",
       "0       28.99       24.26       11.06         8.97           1.22        Four   \n",
       "1       33.40       22.72       -4.89         0.02           1.90         Two   \n",
       "2       33.98       21.91        1.53        12.55           1.92         Two   \n",
       "3       33.78       21.89        1.57        12.69           1.73         Two   \n",
       "4       21.62       16.47        9.40        10.30           1.41        Five   \n",
       "\n",
       "   Unnamed: 14   Bins  Midpoints  \n",
       "0          NaN -15.01      -12.5  \n",
       "1          NaN -10.01       -7.5  \n",
       "2          NaN  -5.01       -2.5  \n",
       "3          NaN  -0.01        2.5  \n",
       "4          NaN   4.99        7.5  "
      ]
     },
     "execution_count": 104,
     "metadata": {},
     "output_type": "execute_result"
    }
   ],
   "source": [
    "Retirement_funds=pd.read_excel(\"Retirement Funds.xlsx\")\n",
    "Retirement_funds.head()\n",
    "#Retirement_funds.columns\n",
    "#Retirement_funds.drop_duplicates('Fund Number')\n"
   ]
  },
  {
   "cell_type": "code",
   "execution_count": 108,
   "metadata": {},
   "outputs": [
    {
     "ename": "TypeError",
     "evalue": "'Series' objects are mutable, thus they cannot be hashed",
     "output_type": "error",
     "traceback": [
      "\u001b[1;31m---------------------------------------------------------------------------\u001b[0m",
      "\u001b[1;31mTypeError\u001b[0m                                 Traceback (most recent call last)",
      "\u001b[1;32m<ipython-input-108-3ed96c468cb4>\u001b[0m in \u001b[0;36m<module>\u001b[1;34m\u001b[0m\n\u001b[0;32m      1\u001b[0m \u001b[0mmean1\u001b[0m\u001b[1;33m=\u001b[0m\u001b[0mRetirement_funds\u001b[0m\u001b[1;33m[\u001b[0m\u001b[1;34m'1YrReturn%'\u001b[0m\u001b[1;33m]\u001b[0m\u001b[1;33m.\u001b[0m\u001b[0mmean\u001b[0m\u001b[1;33m(\u001b[0m\u001b[1;33m)\u001b[0m\u001b[1;33m\u001b[0m\u001b[1;33m\u001b[0m\u001b[0m\n\u001b[0;32m      2\u001b[0m \u001b[1;33m\u001b[0m\u001b[0m\n\u001b[1;32m----> 3\u001b[1;33m \u001b[0mRetirement_funds\u001b[0m\u001b[1;33m.\u001b[0m\u001b[0mpivot_table\u001b[0m\u001b[1;33m(\u001b[0m\u001b[0mcolumns\u001b[0m\u001b[1;33m=\u001b[0m\u001b[1;33m[\u001b[0m\u001b[1;34m\"Type\"\u001b[0m\u001b[1;33m,\u001b[0m\u001b[1;34m'Market Cap'\u001b[0m\u001b[1;33m,\u001b[0m\u001b[1;34m'Risk'\u001b[0m\u001b[1;33m]\u001b[0m\u001b[1;33m,\u001b[0m\u001b[0maggfunc\u001b[0m\u001b[1;33m=\u001b[0m\u001b[0mmean\u001b[0m\u001b[1;33m)\u001b[0m\u001b[1;33m\u001b[0m\u001b[1;33m\u001b[0m\u001b[0m\n\u001b[0m",
      "\u001b[1;32m~\\Anaconda3\\lib\\site-packages\\pandas\\core\\frame.py\u001b[0m in \u001b[0;36mpivot_table\u001b[1;34m(self, values, index, columns, aggfunc, fill_value, margins, dropna, margins_name)\u001b[0m\n\u001b[0;32m   5301\u001b[0m                            \u001b[0maggfunc\u001b[0m\u001b[1;33m=\u001b[0m\u001b[0maggfunc\u001b[0m\u001b[1;33m,\u001b[0m \u001b[0mfill_value\u001b[0m\u001b[1;33m=\u001b[0m\u001b[0mfill_value\u001b[0m\u001b[1;33m,\u001b[0m\u001b[1;33m\u001b[0m\u001b[1;33m\u001b[0m\u001b[0m\n\u001b[0;32m   5302\u001b[0m                            \u001b[0mmargins\u001b[0m\u001b[1;33m=\u001b[0m\u001b[0mmargins\u001b[0m\u001b[1;33m,\u001b[0m \u001b[0mdropna\u001b[0m\u001b[1;33m=\u001b[0m\u001b[0mdropna\u001b[0m\u001b[1;33m,\u001b[0m\u001b[1;33m\u001b[0m\u001b[1;33m\u001b[0m\u001b[0m\n\u001b[1;32m-> 5303\u001b[1;33m                            margins_name=margins_name)\n\u001b[0m\u001b[0;32m   5304\u001b[0m \u001b[1;33m\u001b[0m\u001b[0m\n\u001b[0;32m   5305\u001b[0m     \u001b[1;32mdef\u001b[0m \u001b[0mstack\u001b[0m\u001b[1;33m(\u001b[0m\u001b[0mself\u001b[0m\u001b[1;33m,\u001b[0m \u001b[0mlevel\u001b[0m\u001b[1;33m=\u001b[0m\u001b[1;33m-\u001b[0m\u001b[1;36m1\u001b[0m\u001b[1;33m,\u001b[0m \u001b[0mdropna\u001b[0m\u001b[1;33m=\u001b[0m\u001b[1;32mTrue\u001b[0m\u001b[1;33m)\u001b[0m\u001b[1;33m:\u001b[0m\u001b[1;33m\u001b[0m\u001b[1;33m\u001b[0m\u001b[0m\n",
      "\u001b[1;32m~\\Anaconda3\\lib\\site-packages\\pandas\\core\\reshape\\pivot.py\u001b[0m in \u001b[0;36mpivot_table\u001b[1;34m(data, values, index, columns, aggfunc, fill_value, margins, dropna, margins_name)\u001b[0m\n\u001b[0;32m     85\u001b[0m     \u001b[1;31m# if we have a categorical\u001b[0m\u001b[1;33m\u001b[0m\u001b[1;33m\u001b[0m\u001b[1;33m\u001b[0m\u001b[0m\n\u001b[0;32m     86\u001b[0m     \u001b[0mgrouped\u001b[0m \u001b[1;33m=\u001b[0m \u001b[0mdata\u001b[0m\u001b[1;33m.\u001b[0m\u001b[0mgroupby\u001b[0m\u001b[1;33m(\u001b[0m\u001b[0mkeys\u001b[0m\u001b[1;33m,\u001b[0m \u001b[0mobserved\u001b[0m\u001b[1;33m=\u001b[0m\u001b[1;32mFalse\u001b[0m\u001b[1;33m)\u001b[0m\u001b[1;33m\u001b[0m\u001b[1;33m\u001b[0m\u001b[0m\n\u001b[1;32m---> 87\u001b[1;33m     \u001b[0magged\u001b[0m \u001b[1;33m=\u001b[0m \u001b[0mgrouped\u001b[0m\u001b[1;33m.\u001b[0m\u001b[0magg\u001b[0m\u001b[1;33m(\u001b[0m\u001b[0maggfunc\u001b[0m\u001b[1;33m)\u001b[0m\u001b[1;33m\u001b[0m\u001b[1;33m\u001b[0m\u001b[0m\n\u001b[0m\u001b[0;32m     88\u001b[0m     \u001b[1;32mif\u001b[0m \u001b[0mdropna\u001b[0m \u001b[1;32mand\u001b[0m \u001b[0misinstance\u001b[0m\u001b[1;33m(\u001b[0m\u001b[0magged\u001b[0m\u001b[1;33m,\u001b[0m \u001b[0mABCDataFrame\u001b[0m\u001b[1;33m)\u001b[0m \u001b[1;32mand\u001b[0m \u001b[0mlen\u001b[0m\u001b[1;33m(\u001b[0m\u001b[0magged\u001b[0m\u001b[1;33m.\u001b[0m\u001b[0mcolumns\u001b[0m\u001b[1;33m)\u001b[0m\u001b[1;33m:\u001b[0m\u001b[1;33m\u001b[0m\u001b[1;33m\u001b[0m\u001b[0m\n\u001b[0;32m     89\u001b[0m         \u001b[0magged\u001b[0m \u001b[1;33m=\u001b[0m \u001b[0magged\u001b[0m\u001b[1;33m.\u001b[0m\u001b[0mdropna\u001b[0m\u001b[1;33m(\u001b[0m\u001b[0mhow\u001b[0m\u001b[1;33m=\u001b[0m\u001b[1;34m'all'\u001b[0m\u001b[1;33m)\u001b[0m\u001b[1;33m\u001b[0m\u001b[1;33m\u001b[0m\u001b[0m\n",
      "\u001b[1;32m~\\Anaconda3\\lib\\site-packages\\pandas\\core\\groupby\\groupby.py\u001b[0m in \u001b[0;36maggregate\u001b[1;34m(self, arg, *args, **kwargs)\u001b[0m\n\u001b[0;32m   4654\u001b[0m         axis=''))\n\u001b[0;32m   4655\u001b[0m     \u001b[1;32mdef\u001b[0m \u001b[0maggregate\u001b[0m\u001b[1;33m(\u001b[0m\u001b[0mself\u001b[0m\u001b[1;33m,\u001b[0m \u001b[0marg\u001b[0m\u001b[1;33m,\u001b[0m \u001b[1;33m*\u001b[0m\u001b[0margs\u001b[0m\u001b[1;33m,\u001b[0m \u001b[1;33m**\u001b[0m\u001b[0mkwargs\u001b[0m\u001b[1;33m)\u001b[0m\u001b[1;33m:\u001b[0m\u001b[1;33m\u001b[0m\u001b[1;33m\u001b[0m\u001b[0m\n\u001b[1;32m-> 4656\u001b[1;33m         \u001b[1;32mreturn\u001b[0m \u001b[0msuper\u001b[0m\u001b[1;33m(\u001b[0m\u001b[0mDataFrameGroupBy\u001b[0m\u001b[1;33m,\u001b[0m \u001b[0mself\u001b[0m\u001b[1;33m)\u001b[0m\u001b[1;33m.\u001b[0m\u001b[0maggregate\u001b[0m\u001b[1;33m(\u001b[0m\u001b[0marg\u001b[0m\u001b[1;33m,\u001b[0m \u001b[1;33m*\u001b[0m\u001b[0margs\u001b[0m\u001b[1;33m,\u001b[0m \u001b[1;33m**\u001b[0m\u001b[0mkwargs\u001b[0m\u001b[1;33m)\u001b[0m\u001b[1;33m\u001b[0m\u001b[1;33m\u001b[0m\u001b[0m\n\u001b[0m\u001b[0;32m   4657\u001b[0m \u001b[1;33m\u001b[0m\u001b[0m\n\u001b[0;32m   4658\u001b[0m     \u001b[0magg\u001b[0m \u001b[1;33m=\u001b[0m \u001b[0maggregate\u001b[0m\u001b[1;33m\u001b[0m\u001b[1;33m\u001b[0m\u001b[0m\n",
      "\u001b[1;32m~\\Anaconda3\\lib\\site-packages\\pandas\\core\\groupby\\groupby.py\u001b[0m in \u001b[0;36maggregate\u001b[1;34m(self, arg, *args, **kwargs)\u001b[0m\n\u001b[0;32m   4085\u001b[0m \u001b[1;33m\u001b[0m\u001b[0m\n\u001b[0;32m   4086\u001b[0m         \u001b[0m_level\u001b[0m \u001b[1;33m=\u001b[0m \u001b[0mkwargs\u001b[0m\u001b[1;33m.\u001b[0m\u001b[0mpop\u001b[0m\u001b[1;33m(\u001b[0m\u001b[1;34m'_level'\u001b[0m\u001b[1;33m,\u001b[0m \u001b[1;32mNone\u001b[0m\u001b[1;33m)\u001b[0m\u001b[1;33m\u001b[0m\u001b[1;33m\u001b[0m\u001b[0m\n\u001b[1;32m-> 4087\u001b[1;33m         \u001b[0mresult\u001b[0m\u001b[1;33m,\u001b[0m \u001b[0mhow\u001b[0m \u001b[1;33m=\u001b[0m \u001b[0mself\u001b[0m\u001b[1;33m.\u001b[0m\u001b[0m_aggregate\u001b[0m\u001b[1;33m(\u001b[0m\u001b[0marg\u001b[0m\u001b[1;33m,\u001b[0m \u001b[0m_level\u001b[0m\u001b[1;33m=\u001b[0m\u001b[0m_level\u001b[0m\u001b[1;33m,\u001b[0m \u001b[1;33m*\u001b[0m\u001b[0margs\u001b[0m\u001b[1;33m,\u001b[0m \u001b[1;33m**\u001b[0m\u001b[0mkwargs\u001b[0m\u001b[1;33m)\u001b[0m\u001b[1;33m\u001b[0m\u001b[1;33m\u001b[0m\u001b[0m\n\u001b[0m\u001b[0;32m   4088\u001b[0m         \u001b[1;32mif\u001b[0m \u001b[0mhow\u001b[0m \u001b[1;32mis\u001b[0m \u001b[1;32mNone\u001b[0m\u001b[1;33m:\u001b[0m\u001b[1;33m\u001b[0m\u001b[1;33m\u001b[0m\u001b[0m\n\u001b[0;32m   4089\u001b[0m             \u001b[1;32mreturn\u001b[0m \u001b[0mresult\u001b[0m\u001b[1;33m\u001b[0m\u001b[1;33m\u001b[0m\u001b[0m\n",
      "\u001b[1;32m~\\Anaconda3\\lib\\site-packages\\pandas\\core\\base.py\u001b[0m in \u001b[0;36m_aggregate\u001b[1;34m(self, arg, *args, **kwargs)\u001b[0m\n\u001b[0;32m    553\u001b[0m             \u001b[0mresult\u001b[0m \u001b[1;33m=\u001b[0m \u001b[1;32mNone\u001b[0m\u001b[1;33m\u001b[0m\u001b[1;33m\u001b[0m\u001b[0m\n\u001b[0;32m    554\u001b[0m \u001b[1;33m\u001b[0m\u001b[0m\n\u001b[1;32m--> 555\u001b[1;33m         \u001b[0mf\u001b[0m \u001b[1;33m=\u001b[0m \u001b[0mself\u001b[0m\u001b[1;33m.\u001b[0m\u001b[0m_is_cython_func\u001b[0m\u001b[1;33m(\u001b[0m\u001b[0marg\u001b[0m\u001b[1;33m)\u001b[0m\u001b[1;33m\u001b[0m\u001b[1;33m\u001b[0m\u001b[0m\n\u001b[0m\u001b[0;32m    556\u001b[0m         \u001b[1;32mif\u001b[0m \u001b[0mf\u001b[0m \u001b[1;32mand\u001b[0m \u001b[1;32mnot\u001b[0m \u001b[0margs\u001b[0m \u001b[1;32mand\u001b[0m \u001b[1;32mnot\u001b[0m \u001b[0mkwargs\u001b[0m\u001b[1;33m:\u001b[0m\u001b[1;33m\u001b[0m\u001b[1;33m\u001b[0m\u001b[0m\n\u001b[0;32m    557\u001b[0m             \u001b[1;32mreturn\u001b[0m \u001b[0mgetattr\u001b[0m\u001b[1;33m(\u001b[0m\u001b[0mself\u001b[0m\u001b[1;33m,\u001b[0m \u001b[0mf\u001b[0m\u001b[1;33m)\u001b[0m\u001b[1;33m(\u001b[0m\u001b[1;33m)\u001b[0m\u001b[1;33m,\u001b[0m \u001b[1;32mNone\u001b[0m\u001b[1;33m\u001b[0m\u001b[1;33m\u001b[0m\u001b[0m\n",
      "\u001b[1;32m~\\Anaconda3\\lib\\site-packages\\pandas\\core\\base.py\u001b[0m in \u001b[0;36m_is_cython_func\u001b[1;34m(self, arg)\u001b[0m\n\u001b[0;32m    639\u001b[0m     \u001b[1;32mdef\u001b[0m \u001b[0m_is_cython_func\u001b[0m\u001b[1;33m(\u001b[0m\u001b[0mself\u001b[0m\u001b[1;33m,\u001b[0m \u001b[0marg\u001b[0m\u001b[1;33m)\u001b[0m\u001b[1;33m:\u001b[0m\u001b[1;33m\u001b[0m\u001b[1;33m\u001b[0m\u001b[0m\n\u001b[0;32m    640\u001b[0m         \u001b[1;34m\"\"\" if we define an internal function for this argument, return it \"\"\"\u001b[0m\u001b[1;33m\u001b[0m\u001b[1;33m\u001b[0m\u001b[0m\n\u001b[1;32m--> 641\u001b[1;33m         \u001b[1;32mreturn\u001b[0m \u001b[0mself\u001b[0m\u001b[1;33m.\u001b[0m\u001b[0m_cython_table\u001b[0m\u001b[1;33m.\u001b[0m\u001b[0mget\u001b[0m\u001b[1;33m(\u001b[0m\u001b[0marg\u001b[0m\u001b[1;33m)\u001b[0m\u001b[1;33m\u001b[0m\u001b[1;33m\u001b[0m\u001b[0m\n\u001b[0m\u001b[0;32m    642\u001b[0m \u001b[1;33m\u001b[0m\u001b[0m\n\u001b[0;32m    643\u001b[0m     \u001b[1;32mdef\u001b[0m \u001b[0m_is_builtin_func\u001b[0m\u001b[1;33m(\u001b[0m\u001b[0mself\u001b[0m\u001b[1;33m,\u001b[0m \u001b[0marg\u001b[0m\u001b[1;33m)\u001b[0m\u001b[1;33m:\u001b[0m\u001b[1;33m\u001b[0m\u001b[1;33m\u001b[0m\u001b[0m\n",
      "\u001b[1;32m~\\Anaconda3\\lib\\site-packages\\pandas\\core\\generic.py\u001b[0m in \u001b[0;36m__hash__\u001b[1;34m(self)\u001b[0m\n\u001b[0;32m   1490\u001b[0m     \u001b[1;32mdef\u001b[0m \u001b[0m__hash__\u001b[0m\u001b[1;33m(\u001b[0m\u001b[0mself\u001b[0m\u001b[1;33m)\u001b[0m\u001b[1;33m:\u001b[0m\u001b[1;33m\u001b[0m\u001b[1;33m\u001b[0m\u001b[0m\n\u001b[0;32m   1491\u001b[0m         raise TypeError('{0!r} objects are mutable, thus they cannot be'\n\u001b[1;32m-> 1492\u001b[1;33m                         ' hashed'.format(self.__class__.__name__))\n\u001b[0m\u001b[0;32m   1493\u001b[0m \u001b[1;33m\u001b[0m\u001b[0m\n\u001b[0;32m   1494\u001b[0m     \u001b[1;32mdef\u001b[0m \u001b[0m__iter__\u001b[0m\u001b[1;33m(\u001b[0m\u001b[0mself\u001b[0m\u001b[1;33m)\u001b[0m\u001b[1;33m:\u001b[0m\u001b[1;33m\u001b[0m\u001b[1;33m\u001b[0m\u001b[0m\n",
      "\u001b[1;31mTypeError\u001b[0m: 'Series' objects are mutable, thus they cannot be hashed"
     ]
    }
   ],
   "source": [
    "mean1=Retirement_funds['1YrReturn%'].mean()\n",
    "\n",
    "Retirement_funds.pivot_table(columns=[\"Type\",'Market Cap','Risk'],aggfunc=mean)"
   ]
  },
  {
   "cell_type": "code",
   "execution_count": 106,
   "metadata": {},
   "outputs": [
    {
     "data": {
      "text/plain": [
       "                Type    Market Cap  Risk   \n",
       "Assets          Growth  Large       Average    1790.438428\n",
       "                                    High         62.667482\n",
       "                                    Low        1544.085134\n",
       "                        Mid-Cap     Average     539.264696\n",
       "                                    Low        1024.554244\n",
       "                        Small       Average     396.404828\n",
       "                                    High         50.019791\n",
       "                                    Low         781.587872\n",
       "                Value   Large       Average      59.802195\n",
       "                                    Low        1246.569731\n",
       "                        Mid-Cap     Average    2635.746726\n",
       "                                    Low         711.862660\n",
       "                        Small       Average     334.424334\n",
       "                                    High        126.713535\n",
       "                                    Low         795.451648\n",
       "Turnover Ratio  Growth  Large       Average      51.681752\n",
       "                                    High         83.464563\n",
       "                                    Low          87.729002\n",
       "                        Mid-Cap     Average      71.073436\n",
       "                                    Low          90.594306\n",
       "                        Small       Average      40.415021\n",
       "                                    High         88.427074\n",
       "                                    Low         123.714680\n",
       "                Value   Large       Average      83.706686\n",
       "                                    Low          71.769403\n",
       "                        Mid-Cap     Average      83.771017\n",
       "                                    Low         148.382116\n",
       "                        Small       Average     245.228438\n",
       "                                    High        234.759451\n",
       "                                    Low          26.611587\n",
       "                                                  ...     \n",
       "Bins            Growth  Large       Average            NaN\n",
       "                                    High          5.000000\n",
       "                                    Low          15.909903\n",
       "                        Mid-Cap     Average            NaN\n",
       "                                    Low                NaN\n",
       "                        Small       Average            NaN\n",
       "                                    High               NaN\n",
       "                                    Low                NaN\n",
       "                Value   Large       Average            NaN\n",
       "                                    Low                NaN\n",
       "                        Mid-Cap     Average            NaN\n",
       "                                    Low                NaN\n",
       "                        Small       Average            NaN\n",
       "                                    High               NaN\n",
       "                                    Low                NaN\n",
       "Midpoints       Growth  Large       Average            NaN\n",
       "                                    High          5.000000\n",
       "                                    Low          14.960265\n",
       "                        Mid-Cap     Average            NaN\n",
       "                                    Low                NaN\n",
       "                        Small       Average            NaN\n",
       "                                    High               NaN\n",
       "                                    Low                NaN\n",
       "                Value   Large       Average            NaN\n",
       "                                    Low                NaN\n",
       "                        Mid-Cap     Average            NaN\n",
       "                                    Low                NaN\n",
       "                        Small       Average            NaN\n",
       "                                    High               NaN\n",
       "                                    Low                NaN\n",
       "Length: 180, dtype: float64"
      ]
     },
     "execution_count": 106,
     "metadata": {},
     "output_type": "execute_result"
    }
   ],
   "source": [
    "Retirement_funds.pivot_table(columns=['Type','Market Cap','Risk'],aggfunc='std')"
   ]
  },
  {
   "cell_type": "code",
   "execution_count": 95,
   "metadata": {},
   "outputs": [
    {
     "data": {
      "text/plain": [
       "                Type    Market Cap  Star Rating\n",
       "Assets          Growth  Large       Five           1219.588889\n",
       "                                    Four            935.829032\n",
       "                                    One              24.740000\n",
       "                                    Three           649.048919\n",
       "                                    Two             381.395238\n",
       "                        Mid-Cap     Five            307.571429\n",
       "                                    Four            558.892857\n",
       "                                    One              42.300000\n",
       "                                    Three           475.195000\n",
       "                                    Two             301.476923\n",
       "                        Small       Five            730.400000\n",
       "                                    Four            434.147059\n",
       "                                    One              43.014286\n",
       "                                    Three           329.541176\n",
       "                                    Two              93.477778\n",
       "                Value   Large       Five            752.100000\n",
       "                                    Four            781.707692\n",
       "                                    One             147.240000\n",
       "                                    Three           193.761905\n",
       "                                    Two            1260.988889\n",
       "                        Mid-Cap     Five           1952.100000\n",
       "                                    Four            653.975000\n",
       "                                    Three           329.222222\n",
       "                                    Two            1147.480000\n",
       "                        Small       Five            344.150000\n",
       "                                    Four            824.040000\n",
       "                                    One              37.400000\n",
       "                                    Three           253.433333\n",
       "                                    Two              71.300000\n",
       "Turnover Ratio  Growth  Large       Five             91.221111\n",
       "                                                      ...     \n",
       "Bins            Value   Small       Two                    NaN\n",
       "Midpoints       Growth  Large       Five             14.166667\n",
       "                                    Four             10.833333\n",
       "                                    One                    NaN\n",
       "                                    Three            32.500000\n",
       "                                    Two              -2.500000\n",
       "                        Mid-Cap     Five                   NaN\n",
       "                                    Four                   NaN\n",
       "                                    One                    NaN\n",
       "                                    Three                  NaN\n",
       "                                    Two                    NaN\n",
       "                        Small       Five                   NaN\n",
       "                                    Four                   NaN\n",
       "                                    One                    NaN\n",
       "                                    Three                  NaN\n",
       "                                    Two                    NaN\n",
       "                Value   Large       Five                   NaN\n",
       "                                    Four                   NaN\n",
       "                                    One                    NaN\n",
       "                                    Three                  NaN\n",
       "                                    Two                    NaN\n",
       "                        Mid-Cap     Five                   NaN\n",
       "                                    Four                   NaN\n",
       "                                    Three                  NaN\n",
       "                                    Two                    NaN\n",
       "                        Small       Five                   NaN\n",
       "                                    Four                   NaN\n",
       "                                    One                    NaN\n",
       "                                    Three                  NaN\n",
       "                                    Two                    NaN\n",
       "Length: 348, dtype: float64"
      ]
     },
     "execution_count": 95,
     "metadata": {},
     "output_type": "execute_result"
    }
   ],
   "source": [
    "Retirement_funds.pivot_table(columns=['Type','Market Cap','Star Rating'],aggfunc='mean')"
   ]
  },
  {
   "cell_type": "code",
   "execution_count": 97,
   "metadata": {},
   "outputs": [
    {
     "data": {
      "text/plain": [
       "                Type    Market Cap  Star Rating\n",
       "Assets          Growth  Large       Five           1529.420511\n",
       "                                    Four           2195.561237\n",
       "                                    One              13.307254\n",
       "                                    Three          1284.550946\n",
       "                                    Two             753.746507\n",
       "                        Mid-Cap     Five            237.842341\n",
       "                                    Four            971.171097\n",
       "                                    One              49.620224\n",
       "                                    Three           983.273605\n",
       "                                    Two             474.622401\n",
       "                        Small       Five            966.897813\n",
       "                                    Four            732.804700\n",
       "                                    One              70.187307\n",
       "                                    Three           461.052504\n",
       "                                    Two              87.946060\n",
       "                Value   Large       Five           1024.880569\n",
       "                                    Four           1056.596934\n",
       "                                    One              69.681332\n",
       "                                    Three           334.179901\n",
       "                                    Two            2346.503170\n",
       "                        Mid-Cap     Four           1078.085796\n",
       "                                    Three           455.406710\n",
       "                                    Two            2496.287541\n",
       "                        Small       Five            453.043315\n",
       "                                    Four            991.869323\n",
       "                                    One              15.273506\n",
       "                                    Three           396.309231\n",
       "                                    Two              79.253013\n",
       "Turnover Ratio  Growth  Large       Five             87.963643\n",
       "                                    Four            108.671738\n",
       "                                                      ...     \n",
       "Bins            Value   Small       Three                  NaN\n",
       "                                    Two                    NaN\n",
       "Midpoints       Growth  Large       Five              7.637626\n",
       "                                    Four             20.816660\n",
       "                                    One                    NaN\n",
       "                                    Three                  NaN\n",
       "                                    Two               5.000000\n",
       "                        Mid-Cap     Five                   NaN\n",
       "                                    Four                   NaN\n",
       "                                    One                    NaN\n",
       "                                    Three                  NaN\n",
       "                                    Two                    NaN\n",
       "                        Small       Five                   NaN\n",
       "                                    Four                   NaN\n",
       "                                    One                    NaN\n",
       "                                    Three                  NaN\n",
       "                                    Two                    NaN\n",
       "                Value   Large       Five                   NaN\n",
       "                                    Four                   NaN\n",
       "                                    One                    NaN\n",
       "                                    Three                  NaN\n",
       "                                    Two                    NaN\n",
       "                        Mid-Cap     Four                   NaN\n",
       "                                    Three                  NaN\n",
       "                                    Two                    NaN\n",
       "                        Small       Five                   NaN\n",
       "                                    Four                   NaN\n",
       "                                    One                    NaN\n",
       "                                    Three                  NaN\n",
       "                                    Two                    NaN\n",
       "Length: 336, dtype: float64"
      ]
     },
     "execution_count": 97,
     "metadata": {},
     "output_type": "execute_result"
    }
   ],
   "source": [
    "Retirement_funds.pivot_table(columns=['Type','Market Cap','Star Rating'],aggfunc='std')"
   ]
  },
  {
   "cell_type": "code",
   "execution_count": null,
   "metadata": {},
   "outputs": [],
   "source": []
  }
 ],
 "metadata": {
  "kernelspec": {
   "display_name": "Python 3",
   "language": "python",
   "name": "python3"
  },
  "language_info": {
   "codemirror_mode": {
    "name": "ipython",
    "version": 3
   },
   "file_extension": ".py",
   "mimetype": "text/x-python",
   "name": "python",
   "nbconvert_exporter": "python",
   "pygments_lexer": "ipython3",
   "version": "3.7.1"
  }
 },
 "nbformat": 4,
 "nbformat_minor": 2
}
